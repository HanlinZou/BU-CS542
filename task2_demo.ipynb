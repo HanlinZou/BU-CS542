{
 "cells": [
  {
   "cell_type": "code",
   "execution_count": 1,
   "metadata": {
    "nbpresent": {
     "id": "5e05f980-3d14-4367-b3d1-664249145b13"
    },
    "scrolled": true
   },
   "outputs": [
    {
     "data": {
      "text/plain": [
       "'2.8.0'"
      ]
     },
     "execution_count": 1,
     "metadata": {},
     "output_type": "execute_result"
    }
   ],
   "source": [
    "import os\n",
    "\n",
    "import tensorflow as tf\n",
    "import numpy as np\n",
    "import matplotlib.pyplot as plt\n",
    "from tensorflow.keras.preprocessing.image import ImageDataGenerator\n",
    "\n",
    "os.environ['OMP_NUM_THREADS'] = '1'\n",
    "os.environ['CUDA_VISIBLE_DEVICES'] = '-1'\n",
    "tf.__version__"
   ]
  },
  {
   "cell_type": "markdown",
   "metadata": {
    "nbpresent": {
     "id": "66140980-2aa4-457f-b1df-74c10c234cc2"
    }
   },
   "source": [
    "#### Load Image Data"
   ]
  },
  {
   "cell_type": "code",
   "execution_count": 2,
   "metadata": {
    "nbpresent": {
     "id": "58317664-8da3-4283-b3e5-35721687e7ab"
    }
   },
   "outputs": [],
   "source": [
    "DATA_LIST = os.listdir('all/train')\n",
    "DATASET_PATH  = 'all/train'\n",
    "TEST_DIR =  'all/test'\n",
    "IMAGE_SIZE    = (224, 224)\n",
    "NUM_CLASSES   = len(DATA_LIST)\n",
    "BATCH_SIZE    = 10\n",
    "NUM_EPOCHS    = 100\n",
    "LEARNING_RATE = 0.00001"
   ]
  },
  {
   "cell_type": "markdown",
   "metadata": {
    "nbpresent": {
     "id": "66140980-2aa4-457f-b1df-74c10c234cc2"
    }
   },
   "source": [
    "#### Generate Training and Validation Batches"
   ]
  },
  {
   "cell_type": "code",
   "execution_count": 3,
   "metadata": {
    "nbpresent": {
     "id": "71760e29-2b08-4259-93f1-ebe68cd74a6d"
    }
   },
   "outputs": [
    {
     "name": "stdout",
     "output_type": "stream",
     "text": [
      "Found 240 images belonging to 3 classes.\n",
      "Found 60 images belonging to 3 classes.\n"
     ]
    },
    {
     "name": "stderr",
     "output_type": "stream",
     "text": [
      "C:\\Users\\rexzo\\AppData\\Local\\Programs\\Python\\Python310\\lib\\site-packages\\keras_preprocessing\\image\\image_data_generator.py:342: UserWarning: This ImageDataGenerator specifies `zca_whitening` which overrides setting of`featurewise_std_normalization`.\n",
      "  warnings.warn('This ImageDataGenerator specifies '\n"
     ]
    }
   ],
   "source": [
    "train_datagen = ImageDataGenerator(rescale=1./255,rotation_range=50,featurewise_center = True,\n",
    "                                   featurewise_std_normalization = True,width_shift_range=0.2,\n",
    "                                   height_shift_range=0.2,shear_range=0.25,zoom_range=0.1,\n",
    "                                   zca_whitening = True,channel_shift_range = 20,\n",
    "                                   horizontal_flip = True,vertical_flip = True,\n",
    "                                   validation_split = 0.2,fill_mode='constant')\n",
    "\n",
    "\n",
    "train_batches = train_datagen.flow_from_directory(DATASET_PATH,target_size=IMAGE_SIZE,\n",
    "                                                  shuffle=False,batch_size=BATCH_SIZE,\n",
    "                                                  subset = \"training\",seed=42,\n",
    "                                                  class_mode=\"categorical\")\n",
    "\n",
    "valid_batches = train_datagen.flow_from_directory(DATASET_PATH,target_size=IMAGE_SIZE,\n",
    "                                                  shuffle=False,batch_size=BATCH_SIZE,\n",
    "                                                  subset = \"validation\",\n",
    "                                                  seed=42,class_mode=\"categorical\")"
   ]
  },
  {
   "cell_type": "markdown",
   "metadata": {
    "nbpresent": {
     "id": "66140980-2aa4-457f-b1df-74c10c234cc2"
    }
   },
   "source": [
    "####  Build Model"
   ]
  },
  {
   "cell_type": "code",
   "execution_count": 4,
   "metadata": {},
   "outputs": [],
   "source": [
    "from tensorflow.keras import models\n",
    "from tensorflow.keras import layers\n",
    "from tensorflow.keras import applications "
   ]
  },
  {
   "cell_type": "code",
   "execution_count": 5,
   "metadata": {},
   "outputs": [
    {
     "name": "stdout",
     "output_type": "stream",
     "text": [
      "Model: \"sequential\"\n",
      "_________________________________________________________________\n",
      " Layer (type)                Output Shape              Param #   \n",
      "=================================================================\n",
      " vgg16 (Functional)          (None, 7, 7, 512)         14714688  \n",
      "                                                                 \n",
      " flatten (Flatten)           (None, 25088)             0         \n",
      "                                                                 \n",
      " dense (Dense)               (None, 4096)              102764544 \n",
      "                                                                 \n",
      " dropout (Dropout)           (None, 4096)              0         \n",
      "                                                                 \n",
      " dense_1 (Dense)             (None, 1024)              4195328   \n",
      "                                                                 \n",
      " dropout_1 (Dropout)         (None, 1024)              0         \n",
      "                                                                 \n",
      " dense_2 (Dense)             (None, 256)               262400    \n",
      "                                                                 \n",
      " feature_dense_1 (Dense)     (None, 64)                16448     \n",
      "                                                                 \n",
      " dense_3 (Dense)             (None, 3)                 195       \n",
      "                                                                 \n",
      "=================================================================\n",
      "Total params: 121,953,603\n",
      "Trainable params: 107,238,915\n",
      "Non-trainable params: 14,714,688\n",
      "_________________________________________________________________\n",
      "None\n"
     ]
    }
   ],
   "source": [
    "conv_base_1=applications.VGG16(include_top=False,weights=\"imagenet\",input_shape=(224,224,3))\n",
    "conv_base_1.trainable=False\n",
    "model_1=models.Sequential()\n",
    "model_1.add(conv_base_1)\n",
    "model_1.add(layers.Flatten())\n",
    "model_1.add(layers.Dense(4096,activation=\"relu\"))\n",
    "model_1.add(layers.Dropout(0.5))\n",
    "model_1.add(layers.Dense(1024,activation=\"relu\"))\n",
    "model_1.add(layers.Dropout(0.5))\n",
    "model_1.add(layers.Dense(256,activation=\"relu\"))\n",
    "model_1.add(layers.Dense(64,activation=\"relu\",name='feature_dense_1'))\n",
    "model_1.add(layers.Dense(3,activation=\"softmax\"))\n",
    "\n",
    "print(model_1.summary())"
   ]
  },
  {
   "cell_type": "code",
   "execution_count": 6,
   "metadata": {},
   "outputs": [
    {
     "name": "stdout",
     "output_type": "stream",
     "text": [
      "Model: \"sequential_1\"\n",
      "_________________________________________________________________\n",
      " Layer (type)                Output Shape              Param #   \n",
      "=================================================================\n",
      " inception_v3 (Functional)   (None, 5, 5, 2048)        21802784  \n",
      "                                                                 \n",
      " flatten_1 (Flatten)         (None, 51200)             0         \n",
      "                                                                 \n",
      " dense_4 (Dense)             (None, 4096)              209719296 \n",
      "                                                                 \n",
      " dropout_2 (Dropout)         (None, 4096)              0         \n",
      "                                                                 \n",
      " dense_5 (Dense)             (None, 1024)              4195328   \n",
      "                                                                 \n",
      " dropout_3 (Dropout)         (None, 1024)              0         \n",
      "                                                                 \n",
      " dense_6 (Dense)             (None, 256)               262400    \n",
      "                                                                 \n",
      " feature_dense_2 (Dense)     (None, 64)                16448     \n",
      "                                                                 \n",
      " dense_7 (Dense)             (None, 3)                 195       \n",
      "                                                                 \n",
      "=================================================================\n",
      "Total params: 235,996,451\n",
      "Trainable params: 214,193,667\n",
      "Non-trainable params: 21,802,784\n",
      "_________________________________________________________________\n",
      "None\n"
     ]
    }
   ],
   "source": [
    "conv_base_2=applications.InceptionV3(include_top=False,weights=\"imagenet\",input_shape=(224,224,3))\n",
    "conv_base_2.trainable=False\n",
    "model_2=models.Sequential()\n",
    "model_2.add(conv_base_2)\n",
    "model_2.add(layers.Flatten())\n",
    "model_2.add(layers.Dense(4096,activation=\"relu\"))\n",
    "model_2.add(layers.Dropout(0.5))\n",
    "model_2.add(layers.Dense(1024,activation=\"relu\"))\n",
    "model_2.add(layers.Dropout(0.5))\n",
    "model_2.add(layers.Dense(256,activation=\"relu\"))\n",
    "model_2.add(layers.Dense(64,activation=\"relu\",name='feature_dense_2'))\n",
    "model_2.add(layers.Dense(3,activation=\"softmax\"))\n",
    "\n",
    "print(model_2.summary())"
   ]
  },
  {
   "cell_type": "markdown",
   "metadata": {
    "nbpresent": {
     "id": "66140980-2aa4-457f-b1df-74c10c234cc2"
    }
   },
   "source": [
    "#### Train Model"
   ]
  },
  {
   "cell_type": "code",
   "execution_count": 7,
   "metadata": {},
   "outputs": [],
   "source": [
    "model_1.compile(optimizer=tf.keras.optimizers.Adam(learning_rate=LEARNING_RATE),\n",
    "                loss='categorical_crossentropy',\n",
    "                metrics=['acc'])"
   ]
  },
  {
   "cell_type": "code",
   "execution_count": 8,
   "metadata": {},
   "outputs": [],
   "source": [
    "model_2.compile(optimizer=tf.keras.optimizers.Adam(learning_rate=LEARNING_RATE),\n",
    "                loss='categorical_crossentropy',\n",
    "                metrics=['acc'])"
   ]
  },
  {
   "cell_type": "code",
   "execution_count": 9,
   "metadata": {
    "scrolled": false
   },
   "outputs": [
    {
     "name": "stdout",
     "output_type": "stream",
     "text": [
      "24\n",
      "6\n",
      "Epoch 1/100\n"
     ]
    },
    {
     "name": "stderr",
     "output_type": "stream",
     "text": [
      "C:\\Users\\rexzo\\AppData\\Local\\Programs\\Python\\Python310\\lib\\site-packages\\keras_preprocessing\\image\\image_data_generator.py:720: UserWarning: This ImageDataGenerator specifies `featurewise_center`, but it hasn't been fit on any training data. Fit it first by calling `.fit(numpy_data)`.\n",
      "  warnings.warn('This ImageDataGenerator specifies '\n",
      "C:\\Users\\rexzo\\AppData\\Local\\Programs\\Python\\Python310\\lib\\site-packages\\keras_preprocessing\\image\\image_data_generator.py:739: UserWarning: This ImageDataGenerator specifies `zca_whitening`, but it hasn't been fit on any training data. Fit it first by calling `.fit(numpy_data)`.\n",
      "  warnings.warn('This ImageDataGenerator specifies '\n"
     ]
    },
    {
     "name": "stdout",
     "output_type": "stream",
     "text": [
      "24/24 [==============================] - 29s 1s/step - loss: 1.2827 - acc: 0.2875 - val_loss: 1.1446 - val_acc: 0.3333\n",
      "Epoch 2/100\n",
      "24/24 [==============================] - 27s 1s/step - loss: 1.2167 - acc: 0.3208 - val_loss: 1.0993 - val_acc: 0.3500\n",
      "Epoch 3/100\n",
      "24/24 [==============================] - 27s 1s/step - loss: 1.2067 - acc: 0.3542 - val_loss: 1.0938 - val_acc: 0.3333\n",
      "Epoch 4/100\n",
      "24/24 [==============================] - 27s 1s/step - loss: 1.1397 - acc: 0.3583 - val_loss: 1.0768 - val_acc: 0.3667\n",
      "Epoch 5/100\n",
      "24/24 [==============================] - 27s 1s/step - loss: 1.0888 - acc: 0.4417 - val_loss: 1.0913 - val_acc: 0.3667\n",
      "Epoch 6/100\n",
      "24/24 [==============================] - 27s 1s/step - loss: 1.1317 - acc: 0.3542 - val_loss: 1.1132 - val_acc: 0.3333\n",
      "Epoch 7/100\n",
      "24/24 [==============================] - 27s 1s/step - loss: 1.0555 - acc: 0.4458 - val_loss: 1.0677 - val_acc: 0.3333\n",
      "Epoch 8/100\n",
      "24/24 [==============================] - 27s 1s/step - loss: 1.1057 - acc: 0.4208 - val_loss: 1.0856 - val_acc: 0.3667\n",
      "Epoch 9/100\n",
      "24/24 [==============================] - 28s 1s/step - loss: 1.0321 - acc: 0.4875 - val_loss: 1.1149 - val_acc: 0.3333\n",
      "Epoch 10/100\n",
      "24/24 [==============================] - 27s 1s/step - loss: 1.0339 - acc: 0.4750 - val_loss: 1.0553 - val_acc: 0.3833\n",
      "Epoch 11/100\n",
      "24/24 [==============================] - 27s 1s/step - loss: 1.0085 - acc: 0.4875 - val_loss: 1.0758 - val_acc: 0.3333\n",
      "Epoch 12/100\n",
      "24/24 [==============================] - 27s 1s/step - loss: 1.0287 - acc: 0.4750 - val_loss: 1.0811 - val_acc: 0.3500\n",
      "Epoch 13/100\n",
      "24/24 [==============================] - 27s 1s/step - loss: 1.0265 - acc: 0.4792 - val_loss: 1.0480 - val_acc: 0.4167\n",
      "Epoch 14/100\n",
      "24/24 [==============================] - 27s 1s/step - loss: 0.9809 - acc: 0.5042 - val_loss: 1.0218 - val_acc: 0.4167\n",
      "Epoch 15/100\n",
      "24/24 [==============================] - 27s 1s/step - loss: 1.0013 - acc: 0.5083 - val_loss: 0.9761 - val_acc: 0.5667\n",
      "Epoch 16/100\n",
      "24/24 [==============================] - 27s 1s/step - loss: 0.9897 - acc: 0.5625 - val_loss: 0.9848 - val_acc: 0.4167\n",
      "Epoch 17/100\n",
      "24/24 [==============================] - 27s 1s/step - loss: 0.9155 - acc: 0.5667 - val_loss: 0.9554 - val_acc: 0.5667\n",
      "Epoch 18/100\n",
      "24/24 [==============================] - 27s 1s/step - loss: 0.9407 - acc: 0.5667 - val_loss: 0.9929 - val_acc: 0.4500\n",
      "Epoch 19/100\n",
      "24/24 [==============================] - 27s 1s/step - loss: 0.9570 - acc: 0.5292 - val_loss: 0.9648 - val_acc: 0.4667\n",
      "Epoch 20/100\n",
      "24/24 [==============================] - 27s 1s/step - loss: 0.8543 - acc: 0.6250 - val_loss: 0.9555 - val_acc: 0.5500\n",
      "Epoch 21/100\n",
      "24/24 [==============================] - 27s 1s/step - loss: 0.8849 - acc: 0.5958 - val_loss: 0.9735 - val_acc: 0.4667\n",
      "Epoch 22/100\n",
      "24/24 [==============================] - 27s 1s/step - loss: 0.8376 - acc: 0.6375 - val_loss: 0.9303 - val_acc: 0.6167\n",
      "Epoch 23/100\n",
      "24/24 [==============================] - 28s 1s/step - loss: 0.8056 - acc: 0.6458 - val_loss: 0.8739 - val_acc: 0.5667\n",
      "Epoch 24/100\n",
      "24/24 [==============================] - 27s 1s/step - loss: 0.7519 - acc: 0.6750 - val_loss: 0.8515 - val_acc: 0.6333\n",
      "Epoch 25/100\n",
      "24/24 [==============================] - 27s 1s/step - loss: 0.7659 - acc: 0.6375 - val_loss: 0.8542 - val_acc: 0.6667\n",
      "Epoch 26/100\n",
      "24/24 [==============================] - 27s 1s/step - loss: 0.7803 - acc: 0.6417 - val_loss: 0.7778 - val_acc: 0.7167\n",
      "Epoch 27/100\n",
      "24/24 [==============================] - 27s 1s/step - loss: 0.7139 - acc: 0.7125 - val_loss: 0.8860 - val_acc: 0.6667\n",
      "Epoch 28/100\n",
      "24/24 [==============================] - 27s 1s/step - loss: 0.6620 - acc: 0.7250 - val_loss: 0.7880 - val_acc: 0.6833\n",
      "Epoch 29/100\n",
      "24/24 [==============================] - 27s 1s/step - loss: 0.7038 - acc: 0.7042 - val_loss: 1.0173 - val_acc: 0.4000\n",
      "Epoch 30/100\n",
      "24/24 [==============================] - 27s 1s/step - loss: 0.7095 - acc: 0.6667 - val_loss: 0.8306 - val_acc: 0.6167\n",
      "Epoch 31/100\n",
      "24/24 [==============================] - 27s 1s/step - loss: 0.6221 - acc: 0.7500 - val_loss: 0.8667 - val_acc: 0.6333\n",
      "Epoch 32/100\n",
      "24/24 [==============================] - 27s 1s/step - loss: 0.5982 - acc: 0.7542 - val_loss: 0.7021 - val_acc: 0.7333\n",
      "Epoch 33/100\n",
      "24/24 [==============================] - 27s 1s/step - loss: 0.6663 - acc: 0.6917 - val_loss: 0.7923 - val_acc: 0.6000\n",
      "Epoch 34/100\n",
      "24/24 [==============================] - 27s 1s/step - loss: 0.5579 - acc: 0.7958 - val_loss: 0.6933 - val_acc: 0.7500\n",
      "Epoch 35/100\n",
      "24/24 [==============================] - 27s 1s/step - loss: 0.7089 - acc: 0.6750 - val_loss: 0.7290 - val_acc: 0.6667\n",
      "Epoch 36/100\n",
      "24/24 [==============================] - 27s 1s/step - loss: 0.5654 - acc: 0.7792 - val_loss: 0.7592 - val_acc: 0.7333\n",
      "Epoch 37/100\n",
      "24/24 [==============================] - 28s 1s/step - loss: 0.5435 - acc: 0.7667 - val_loss: 0.7689 - val_acc: 0.6167\n",
      "Epoch 38/100\n",
      "24/24 [==============================] - 27s 1s/step - loss: 0.5408 - acc: 0.7667 - val_loss: 0.7752 - val_acc: 0.6667\n",
      "Epoch 39/100\n",
      "24/24 [==============================] - 27s 1s/step - loss: 0.6319 - acc: 0.6958 - val_loss: 0.9329 - val_acc: 0.5500\n",
      "Epoch 40/100\n",
      "24/24 [==============================] - 27s 1s/step - loss: 0.5289 - acc: 0.7833 - val_loss: 0.9335 - val_acc: 0.6500\n",
      "Epoch 41/100\n",
      "24/24 [==============================] - 27s 1s/step - loss: 0.5482 - acc: 0.7583 - val_loss: 0.6212 - val_acc: 0.7667\n",
      "Epoch 42/100\n",
      "24/24 [==============================] - 27s 1s/step - loss: 0.5823 - acc: 0.7625 - val_loss: 1.0618 - val_acc: 0.6333\n",
      "Epoch 43/100\n",
      "24/24 [==============================] - 27s 1s/step - loss: 0.5370 - acc: 0.7792 - val_loss: 0.6651 - val_acc: 0.7000\n",
      "Epoch 44/100\n",
      "24/24 [==============================] - 27s 1s/step - loss: 0.4994 - acc: 0.7750 - val_loss: 0.7624 - val_acc: 0.6833\n",
      "Epoch 45/100\n",
      "24/24 [==============================] - 27s 1s/step - loss: 0.4561 - acc: 0.8167 - val_loss: 0.6094 - val_acc: 0.7833\n",
      "Epoch 46/100\n",
      "24/24 [==============================] - 27s 1s/step - loss: 0.4457 - acc: 0.8083 - val_loss: 0.9355 - val_acc: 0.6000\n",
      "Epoch 47/100\n",
      "24/24 [==============================] - 27s 1s/step - loss: 0.4609 - acc: 0.8250 - val_loss: 1.0036 - val_acc: 0.6167\n",
      "Epoch 48/100\n",
      "24/24 [==============================] - 27s 1s/step - loss: 0.4548 - acc: 0.8083 - val_loss: 0.6464 - val_acc: 0.7333\n",
      "Epoch 49/100\n",
      "24/24 [==============================] - 27s 1s/step - loss: 0.4025 - acc: 0.8583 - val_loss: 0.7979 - val_acc: 0.6000\n",
      "Epoch 50/100\n",
      "24/24 [==============================] - 27s 1s/step - loss: 0.3954 - acc: 0.8542 - val_loss: 0.8897 - val_acc: 0.6167\n",
      "Epoch 51/100\n",
      "24/24 [==============================] - 26s 1s/step - loss: 0.4217 - acc: 0.8375 - val_loss: 0.8357 - val_acc: 0.6833\n",
      "Epoch 52/100\n",
      "24/24 [==============================] - 27s 1s/step - loss: 0.4073 - acc: 0.8708 - val_loss: 0.7639 - val_acc: 0.7000\n",
      "Epoch 53/100\n",
      "24/24 [==============================] - 26s 1s/step - loss: 0.3999 - acc: 0.8292 - val_loss: 0.8781 - val_acc: 0.6333\n",
      "Epoch 54/100\n",
      "24/24 [==============================] - 26s 1s/step - loss: 0.4076 - acc: 0.8542 - val_loss: 0.7047 - val_acc: 0.7333\n",
      "Epoch 55/100\n",
      "24/24 [==============================] - 27s 1s/step - loss: 0.4369 - acc: 0.8250 - val_loss: 0.8235 - val_acc: 0.6833\n",
      "Epoch 56/100\n",
      "24/24 [==============================] - 27s 1s/step - loss: 0.4168 - acc: 0.8250 - val_loss: 0.7253 - val_acc: 0.7333\n",
      "Epoch 57/100\n",
      "24/24 [==============================] - 27s 1s/step - loss: 0.4146 - acc: 0.8000 - val_loss: 0.6211 - val_acc: 0.7667\n",
      "Epoch 58/100\n",
      "24/24 [==============================] - 26s 1s/step - loss: 0.4527 - acc: 0.8208 - val_loss: 0.8266 - val_acc: 0.6833\n",
      "Epoch 59/100\n",
      "24/24 [==============================] - 27s 1s/step - loss: 0.4087 - acc: 0.8083 - val_loss: 0.8774 - val_acc: 0.6667\n",
      "Epoch 60/100\n",
      "24/24 [==============================] - 27s 1s/step - loss: 0.3446 - acc: 0.8750 - val_loss: 0.7455 - val_acc: 0.7667\n",
      "Epoch 61/100\n",
      "24/24 [==============================] - 27s 1s/step - loss: 0.3819 - acc: 0.8500 - val_loss: 0.8654 - val_acc: 0.7000\n",
      "Epoch 62/100\n",
      "24/24 [==============================] - 29s 1s/step - loss: 0.3495 - acc: 0.8625 - val_loss: 0.8055 - val_acc: 0.7167\n",
      "Epoch 63/100\n",
      "24/24 [==============================] - 27s 1s/step - loss: 0.4095 - acc: 0.8500 - val_loss: 0.9766 - val_acc: 0.5833\n",
      "Epoch 64/100\n",
      "24/24 [==============================] - 27s 1s/step - loss: 0.4004 - acc: 0.8333 - val_loss: 0.8592 - val_acc: 0.7000\n",
      "Epoch 65/100\n",
      "24/24 [==============================] - 26s 1s/step - loss: 0.4000 - acc: 0.8417 - val_loss: 0.9244 - val_acc: 0.6667\n",
      "Epoch 66/100\n",
      "24/24 [==============================] - 26s 1s/step - loss: 0.3509 - acc: 0.8542 - val_loss: 0.9188 - val_acc: 0.6167\n",
      "Epoch 67/100\n",
      "24/24 [==============================] - 27s 1s/step - loss: 0.3894 - acc: 0.8500 - val_loss: 0.8918 - val_acc: 0.6167\n",
      "Epoch 68/100\n",
      "24/24 [==============================] - 27s 1s/step - loss: 0.3050 - acc: 0.8667 - val_loss: 0.7555 - val_acc: 0.6667\n",
      "Epoch 69/100\n",
      "24/24 [==============================] - 27s 1s/step - loss: 0.3238 - acc: 0.8917 - val_loss: 0.9666 - val_acc: 0.7167\n",
      "Epoch 70/100\n",
      "24/24 [==============================] - 27s 1s/step - loss: 0.3840 - acc: 0.8375 - val_loss: 0.5725 - val_acc: 0.7667\n",
      "Epoch 71/100\n",
      "24/24 [==============================] - 27s 1s/step - loss: 0.3899 - acc: 0.8292 - val_loss: 0.8889 - val_acc: 0.6833\n",
      "Epoch 72/100\n",
      "24/24 [==============================] - 27s 1s/step - loss: 0.4141 - acc: 0.8542 - val_loss: 0.7868 - val_acc: 0.7500\n",
      "Epoch 73/100\n",
      "24/24 [==============================] - 27s 1s/step - loss: 0.2736 - acc: 0.8958 - val_loss: 1.1872 - val_acc: 0.6167\n",
      "Epoch 74/100\n",
      "24/24 [==============================] - 27s 1s/step - loss: 0.3717 - acc: 0.8542 - val_loss: 0.8410 - val_acc: 0.7000\n",
      "Epoch 75/100\n",
      "24/24 [==============================] - 26s 1s/step - loss: 0.2973 - acc: 0.9042 - val_loss: 0.9192 - val_acc: 0.6833\n",
      "Epoch 76/100\n",
      "24/24 [==============================] - 26s 1s/step - loss: 0.3093 - acc: 0.8875 - val_loss: 0.7564 - val_acc: 0.7000\n",
      "Epoch 77/100\n",
      "24/24 [==============================] - 27s 1s/step - loss: 0.2637 - acc: 0.9042 - val_loss: 0.7881 - val_acc: 0.7167\n",
      "Epoch 78/100\n",
      "24/24 [==============================] - 27s 1s/step - loss: 0.2963 - acc: 0.8750 - val_loss: 1.0843 - val_acc: 0.6667\n",
      "Epoch 79/100\n",
      "24/24 [==============================] - 27s 1s/step - loss: 0.2844 - acc: 0.9042 - val_loss: 0.8712 - val_acc: 0.7167\n",
      "Epoch 80/100\n",
      "24/24 [==============================] - 26s 1s/step - loss: 0.3146 - acc: 0.8625 - val_loss: 0.9778 - val_acc: 0.6667\n",
      "Epoch 81/100\n",
      "24/24 [==============================] - 27s 1s/step - loss: 0.2462 - acc: 0.9042 - val_loss: 1.1365 - val_acc: 0.6833\n",
      "Epoch 82/100\n",
      "24/24 [==============================] - 27s 1s/step - loss: 0.3040 - acc: 0.8833 - val_loss: 1.1762 - val_acc: 0.6500\n",
      "Epoch 83/100\n",
      "24/24 [==============================] - 27s 1s/step - loss: 0.3043 - acc: 0.8875 - val_loss: 0.8133 - val_acc: 0.7167\n",
      "Epoch 84/100\n",
      "24/24 [==============================] - 27s 1s/step - loss: 0.2855 - acc: 0.8833 - val_loss: 0.9149 - val_acc: 0.7333\n",
      "Epoch 85/100\n",
      "24/24 [==============================] - 27s 1s/step - loss: 0.3087 - acc: 0.8875 - val_loss: 0.7416 - val_acc: 0.7500\n",
      "Epoch 86/100\n",
      "24/24 [==============================] - 27s 1s/step - loss: 0.2768 - acc: 0.8875 - val_loss: 1.1913 - val_acc: 0.7000\n",
      "Epoch 87/100\n",
      "24/24 [==============================] - 27s 1s/step - loss: 0.2734 - acc: 0.8958 - val_loss: 0.9618 - val_acc: 0.7000\n",
      "Epoch 88/100\n",
      "24/24 [==============================] - 28s 1s/step - loss: 0.2575 - acc: 0.8917 - val_loss: 0.8250 - val_acc: 0.7167\n",
      "Epoch 89/100\n",
      "24/24 [==============================] - 27s 1s/step - loss: 0.2344 - acc: 0.9042 - val_loss: 0.8547 - val_acc: 0.6833\n",
      "Epoch 90/100\n",
      "24/24 [==============================] - 27s 1s/step - loss: 0.2422 - acc: 0.9250 - val_loss: 1.1276 - val_acc: 0.6667\n",
      "Epoch 91/100\n",
      "24/24 [==============================] - 27s 1s/step - loss: 0.2854 - acc: 0.9000 - val_loss: 0.8522 - val_acc: 0.7167\n",
      "Epoch 92/100\n",
      "24/24 [==============================] - 27s 1s/step - loss: 0.2421 - acc: 0.9208 - val_loss: 1.1895 - val_acc: 0.6500\n",
      "Epoch 93/100\n",
      "24/24 [==============================] - 27s 1s/step - loss: 0.2327 - acc: 0.9292 - val_loss: 1.0470 - val_acc: 0.7167\n",
      "Epoch 94/100\n",
      "24/24 [==============================] - 27s 1s/step - loss: 0.2664 - acc: 0.9000 - val_loss: 1.0237 - val_acc: 0.6833\n",
      "Epoch 95/100\n",
      "24/24 [==============================] - 27s 1s/step - loss: 0.3162 - acc: 0.8667 - val_loss: 1.0792 - val_acc: 0.6333\n",
      "Epoch 96/100\n",
      "24/24 [==============================] - 27s 1s/step - loss: 0.2845 - acc: 0.8917 - val_loss: 1.3070 - val_acc: 0.6333\n",
      "Epoch 97/100\n",
      "24/24 [==============================] - 27s 1s/step - loss: 0.3034 - acc: 0.8750 - val_loss: 1.1423 - val_acc: 0.6667\n",
      "Epoch 98/100\n",
      "24/24 [==============================] - 27s 1s/step - loss: 0.2537 - acc: 0.8875 - val_loss: 1.2102 - val_acc: 0.6500\n",
      "Epoch 99/100\n",
      "24/24 [==============================] - 27s 1s/step - loss: 0.2490 - acc: 0.8667 - val_loss: 0.8314 - val_acc: 0.7000\n",
      "Epoch 100/100\n",
      "24/24 [==============================] - 27s 1s/step - loss: 0.2615 - acc: 0.9000 - val_loss: 1.1440 - val_acc: 0.7000\n"
     ]
    }
   ],
   "source": [
    "print(len(train_batches))\n",
    "print(len(valid_batches))\n",
    "STEP_SIZE_TRAIN=train_batches.n//train_batches.batch_size\n",
    "STEP_SIZE_VALID=valid_batches.n//valid_batches.batch_size\n",
    "history_1=model_1.fit(train_batches,steps_per_epoch=STEP_SIZE_TRAIN,validation_steps=STEP_SIZE_VALID,epochs=NUM_EPOCHS,validation_data=valid_batches,verbose=1)"
   ]
  },
  {
   "cell_type": "code",
   "execution_count": 10,
   "metadata": {
    "scrolled": false
   },
   "outputs": [
    {
     "name": "stdout",
     "output_type": "stream",
     "text": [
      "24\n",
      "6\n",
      "Epoch 1/100\n",
      "24/24 [==============================] - 28s 1s/step - loss: 1.5032 - acc: 0.3583 - val_loss: 1.2826 - val_acc: 0.3833\n",
      "Epoch 2/100\n",
      "24/24 [==============================] - 24s 1s/step - loss: 1.2471 - acc: 0.4125 - val_loss: 0.9642 - val_acc: 0.5833\n",
      "Epoch 3/100\n",
      "24/24 [==============================] - 24s 1s/step - loss: 1.1640 - acc: 0.4458 - val_loss: 0.8228 - val_acc: 0.6667\n",
      "Epoch 4/100\n",
      "24/24 [==============================] - 25s 1s/step - loss: 1.0236 - acc: 0.4750 - val_loss: 0.8561 - val_acc: 0.6167\n",
      "Epoch 5/100\n",
      "24/24 [==============================] - 24s 1s/step - loss: 0.7974 - acc: 0.6667 - val_loss: 0.8204 - val_acc: 0.5667\n",
      "Epoch 6/100\n",
      "24/24 [==============================] - 24s 1s/step - loss: 1.0513 - acc: 0.5250 - val_loss: 0.6155 - val_acc: 0.7333\n",
      "Epoch 7/100\n",
      "24/24 [==============================] - 25s 1s/step - loss: 0.7665 - acc: 0.6750 - val_loss: 0.5674 - val_acc: 0.8000\n",
      "Epoch 8/100\n",
      "24/24 [==============================] - 25s 1s/step - loss: 0.7526 - acc: 0.6833 - val_loss: 0.5457 - val_acc: 0.7833\n",
      "Epoch 9/100\n",
      "24/24 [==============================] - 24s 1s/step - loss: 0.7172 - acc: 0.6792 - val_loss: 0.5580 - val_acc: 0.7000\n",
      "Epoch 10/100\n",
      "24/24 [==============================] - 25s 1s/step - loss: 0.6330 - acc: 0.7500 - val_loss: 0.4823 - val_acc: 0.8500\n",
      "Epoch 11/100\n",
      "24/24 [==============================] - 25s 1s/step - loss: 0.6193 - acc: 0.7125 - val_loss: 0.7226 - val_acc: 0.6833\n",
      "Epoch 12/100\n",
      "24/24 [==============================] - 24s 1s/step - loss: 0.5886 - acc: 0.7083 - val_loss: 0.5369 - val_acc: 0.7333\n",
      "Epoch 13/100\n",
      "24/24 [==============================] - 25s 1s/step - loss: 0.5552 - acc: 0.7750 - val_loss: 0.5451 - val_acc: 0.7833\n",
      "Epoch 14/100\n",
      "24/24 [==============================] - 24s 1s/step - loss: 0.5948 - acc: 0.7500 - val_loss: 0.6495 - val_acc: 0.6833\n",
      "Epoch 15/100\n",
      "24/24 [==============================] - 24s 1s/step - loss: 0.5493 - acc: 0.7792 - val_loss: 0.5274 - val_acc: 0.7500\n",
      "Epoch 16/100\n",
      "24/24 [==============================] - 24s 1s/step - loss: 0.5668 - acc: 0.8083 - val_loss: 0.7357 - val_acc: 0.7167\n",
      "Epoch 17/100\n",
      "24/24 [==============================] - 24s 1s/step - loss: 0.6967 - acc: 0.7292 - val_loss: 0.4919 - val_acc: 0.7667\n",
      "Epoch 18/100\n",
      "24/24 [==============================] - 24s 1s/step - loss: 0.4834 - acc: 0.7958 - val_loss: 0.5765 - val_acc: 0.7833\n",
      "Epoch 19/100\n",
      "24/24 [==============================] - 24s 1s/step - loss: 0.4546 - acc: 0.8167 - val_loss: 0.5255 - val_acc: 0.7500\n",
      "Epoch 20/100\n",
      "24/24 [==============================] - 24s 1s/step - loss: 0.5549 - acc: 0.7708 - val_loss: 0.8798 - val_acc: 0.6500\n",
      "Epoch 21/100\n",
      "24/24 [==============================] - 24s 1s/step - loss: 0.3974 - acc: 0.8417 - val_loss: 0.4700 - val_acc: 0.7833\n",
      "Epoch 22/100\n",
      "24/24 [==============================] - 24s 1s/step - loss: 0.4974 - acc: 0.8042 - val_loss: 0.6916 - val_acc: 0.7167\n",
      "Epoch 23/100\n",
      "24/24 [==============================] - 24s 1s/step - loss: 0.4414 - acc: 0.8542 - val_loss: 0.5525 - val_acc: 0.7167\n",
      "Epoch 24/100\n",
      "24/24 [==============================] - 24s 1s/step - loss: 0.5609 - acc: 0.7458 - val_loss: 0.6450 - val_acc: 0.7667\n",
      "Epoch 25/100\n",
      "24/24 [==============================] - 24s 1s/step - loss: 0.5568 - acc: 0.7708 - val_loss: 0.4521 - val_acc: 0.7500\n",
      "Epoch 26/100\n",
      "24/24 [==============================] - 24s 1s/step - loss: 0.4907 - acc: 0.8083 - val_loss: 0.5924 - val_acc: 0.7167\n",
      "Epoch 27/100\n",
      "24/24 [==============================] - 24s 1s/step - loss: 0.5811 - acc: 0.7833 - val_loss: 0.6104 - val_acc: 0.7333\n",
      "Epoch 28/100\n",
      "24/24 [==============================] - 24s 1s/step - loss: 0.5305 - acc: 0.7833 - val_loss: 0.3840 - val_acc: 0.8333\n",
      "Epoch 29/100\n",
      "24/24 [==============================] - 25s 1s/step - loss: 0.3942 - acc: 0.8333 - val_loss: 0.5102 - val_acc: 0.7500\n",
      "Epoch 30/100\n",
      "24/24 [==============================] - 24s 1s/step - loss: 0.4994 - acc: 0.7667 - val_loss: 0.5746 - val_acc: 0.7000\n",
      "Epoch 31/100\n",
      "24/24 [==============================] - 24s 1s/step - loss: 0.4291 - acc: 0.8500 - val_loss: 0.6139 - val_acc: 0.8000\n",
      "Epoch 32/100\n",
      "24/24 [==============================] - 24s 1s/step - loss: 0.4937 - acc: 0.8000 - val_loss: 0.6050 - val_acc: 0.7500\n",
      "Epoch 33/100\n",
      "24/24 [==============================] - 25s 1s/step - loss: 0.4468 - acc: 0.8292 - val_loss: 0.5413 - val_acc: 0.7500\n",
      "Epoch 34/100\n",
      "24/24 [==============================] - 24s 1s/step - loss: 0.4380 - acc: 0.8083 - val_loss: 0.6025 - val_acc: 0.7167\n",
      "Epoch 35/100\n",
      "24/24 [==============================] - 24s 1s/step - loss: 0.4644 - acc: 0.8083 - val_loss: 0.6901 - val_acc: 0.7167\n",
      "Epoch 36/100\n",
      "24/24 [==============================] - 25s 1s/step - loss: 0.4725 - acc: 0.8167 - val_loss: 0.7629 - val_acc: 0.7333\n",
      "Epoch 37/100\n",
      "24/24 [==============================] - 26s 1s/step - loss: 0.4828 - acc: 0.8042 - val_loss: 0.6697 - val_acc: 0.7833\n",
      "Epoch 38/100\n",
      "24/24 [==============================] - 25s 1s/step - loss: 0.4644 - acc: 0.7917 - val_loss: 0.6506 - val_acc: 0.7667\n",
      "Epoch 39/100\n",
      "24/24 [==============================] - 24s 1s/step - loss: 0.3969 - acc: 0.8458 - val_loss: 0.7995 - val_acc: 0.7167\n",
      "Epoch 40/100\n",
      "24/24 [==============================] - 24s 1s/step - loss: 0.4529 - acc: 0.8500 - val_loss: 0.6592 - val_acc: 0.6667\n",
      "Epoch 41/100\n",
      "24/24 [==============================] - 24s 1s/step - loss: 0.4578 - acc: 0.8417 - val_loss: 0.5946 - val_acc: 0.7000\n",
      "Epoch 42/100\n",
      "24/24 [==============================] - 24s 1s/step - loss: 0.4409 - acc: 0.8292 - val_loss: 0.3744 - val_acc: 0.8167\n",
      "Epoch 43/100\n",
      "24/24 [==============================] - 24s 1s/step - loss: 0.3618 - acc: 0.8292 - val_loss: 0.6414 - val_acc: 0.8000\n",
      "Epoch 44/100\n",
      "24/24 [==============================] - 24s 1s/step - loss: 0.3738 - acc: 0.8458 - val_loss: 0.6691 - val_acc: 0.7333\n",
      "Epoch 45/100\n",
      "24/24 [==============================] - 24s 1s/step - loss: 0.3836 - acc: 0.8375 - val_loss: 0.5651 - val_acc: 0.8167\n",
      "Epoch 46/100\n",
      "24/24 [==============================] - 24s 1s/step - loss: 0.3756 - acc: 0.8583 - val_loss: 0.5575 - val_acc: 0.7333\n",
      "Epoch 47/100\n",
      "24/24 [==============================] - 24s 1s/step - loss: 0.3162 - acc: 0.8875 - val_loss: 0.7465 - val_acc: 0.6833\n",
      "Epoch 48/100\n",
      "24/24 [==============================] - 24s 1s/step - loss: 0.3077 - acc: 0.8625 - val_loss: 0.5839 - val_acc: 0.8000\n",
      "Epoch 49/100\n",
      "24/24 [==============================] - 24s 1s/step - loss: 0.3479 - acc: 0.8625 - val_loss: 0.7059 - val_acc: 0.8167\n",
      "Epoch 50/100\n",
      "24/24 [==============================] - 25s 1s/step - loss: 0.4065 - acc: 0.8292 - val_loss: 0.5811 - val_acc: 0.7500\n",
      "Epoch 51/100\n",
      "24/24 [==============================] - 24s 1s/step - loss: 0.2788 - acc: 0.8875 - val_loss: 0.7408 - val_acc: 0.7500\n",
      "Epoch 52/100\n",
      "24/24 [==============================] - 24s 1s/step - loss: 0.3185 - acc: 0.8917 - val_loss: 0.6068 - val_acc: 0.7500\n",
      "Epoch 53/100\n",
      "24/24 [==============================] - 24s 1s/step - loss: 0.3247 - acc: 0.8875 - val_loss: 0.6387 - val_acc: 0.7667\n",
      "Epoch 54/100\n",
      "24/24 [==============================] - 24s 1s/step - loss: 0.3068 - acc: 0.8833 - val_loss: 0.4487 - val_acc: 0.7667\n",
      "Epoch 55/100\n",
      "24/24 [==============================] - 24s 1s/step - loss: 0.5557 - acc: 0.7875 - val_loss: 0.7286 - val_acc: 0.7500\n",
      "Epoch 56/100\n",
      "24/24 [==============================] - 24s 1s/step - loss: 0.3426 - acc: 0.8833 - val_loss: 0.4633 - val_acc: 0.8167\n",
      "Epoch 57/100\n",
      "24/24 [==============================] - 24s 1s/step - loss: 0.3012 - acc: 0.8792 - val_loss: 0.7343 - val_acc: 0.7833\n",
      "Epoch 58/100\n",
      "24/24 [==============================] - 24s 1s/step - loss: 0.2272 - acc: 0.9083 - val_loss: 0.7172 - val_acc: 0.7500\n",
      "Epoch 59/100\n",
      "24/24 [==============================] - 24s 1s/step - loss: 0.3291 - acc: 0.8708 - val_loss: 0.5980 - val_acc: 0.7333\n",
      "Epoch 60/100\n",
      "24/24 [==============================] - 24s 1s/step - loss: 0.3449 - acc: 0.8833 - val_loss: 0.7351 - val_acc: 0.7500\n",
      "Epoch 61/100\n",
      "24/24 [==============================] - 24s 1s/step - loss: 0.2067 - acc: 0.9083 - val_loss: 0.4902 - val_acc: 0.8000\n",
      "Epoch 62/100\n",
      "24/24 [==============================] - 25s 1s/step - loss: 0.3477 - acc: 0.8542 - val_loss: 0.9506 - val_acc: 0.6667\n",
      "Epoch 63/100\n"
     ]
    },
    {
     "name": "stdout",
     "output_type": "stream",
     "text": [
      "24/24 [==============================] - 24s 1s/step - loss: 0.2661 - acc: 0.9167 - val_loss: 0.9277 - val_acc: 0.7500\n",
      "Epoch 64/100\n",
      "24/24 [==============================] - 24s 1s/step - loss: 0.2887 - acc: 0.8750 - val_loss: 0.6760 - val_acc: 0.6833\n",
      "Epoch 65/100\n",
      "24/24 [==============================] - 24s 1s/step - loss: 0.3034 - acc: 0.8500 - val_loss: 0.6698 - val_acc: 0.7167\n",
      "Epoch 66/100\n",
      "24/24 [==============================] - 25s 1s/step - loss: 0.3527 - acc: 0.8792 - val_loss: 0.9521 - val_acc: 0.7000\n",
      "Epoch 67/100\n",
      "24/24 [==============================] - 24s 1s/step - loss: 0.2804 - acc: 0.8750 - val_loss: 0.7323 - val_acc: 0.7500\n",
      "Epoch 68/100\n",
      "24/24 [==============================] - 24s 1s/step - loss: 0.2649 - acc: 0.9042 - val_loss: 1.0022 - val_acc: 0.6167\n",
      "Epoch 69/100\n",
      "24/24 [==============================] - 24s 1s/step - loss: 0.2617 - acc: 0.8833 - val_loss: 0.8743 - val_acc: 0.6833\n",
      "Epoch 70/100\n",
      "24/24 [==============================] - 25s 1s/step - loss: 0.2829 - acc: 0.9083 - val_loss: 0.8088 - val_acc: 0.7000\n",
      "Epoch 71/100\n",
      "24/24 [==============================] - 25s 1s/step - loss: 0.2320 - acc: 0.9000 - val_loss: 0.8423 - val_acc: 0.7167\n",
      "Epoch 72/100\n",
      "24/24 [==============================] - 24s 1s/step - loss: 0.2662 - acc: 0.8875 - val_loss: 0.6096 - val_acc: 0.7500\n",
      "Epoch 73/100\n",
      "24/24 [==============================] - 24s 1s/step - loss: 0.2300 - acc: 0.9000 - val_loss: 0.8723 - val_acc: 0.7167\n",
      "Epoch 74/100\n",
      "24/24 [==============================] - 25s 1s/step - loss: 0.2741 - acc: 0.8750 - val_loss: 0.6936 - val_acc: 0.7500\n",
      "Epoch 75/100\n",
      "24/24 [==============================] - 25s 1s/step - loss: 0.2625 - acc: 0.8958 - val_loss: 0.7395 - val_acc: 0.7167\n",
      "Epoch 76/100\n",
      "24/24 [==============================] - 26s 1s/step - loss: 0.3035 - acc: 0.8958 - val_loss: 0.7098 - val_acc: 0.7167\n",
      "Epoch 77/100\n",
      "24/24 [==============================] - 25s 1s/step - loss: 0.3266 - acc: 0.8875 - val_loss: 0.9334 - val_acc: 0.7500\n",
      "Epoch 78/100\n",
      "24/24 [==============================] - 25s 1s/step - loss: 0.3033 - acc: 0.8875 - val_loss: 1.1971 - val_acc: 0.6333\n",
      "Epoch 79/100\n",
      "24/24 [==============================] - 27s 1s/step - loss: 0.3279 - acc: 0.8667 - val_loss: 0.7136 - val_acc: 0.7667\n",
      "Epoch 80/100\n",
      "24/24 [==============================] - 27s 1s/step - loss: 0.3294 - acc: 0.8625 - val_loss: 1.2937 - val_acc: 0.6500\n",
      "Epoch 81/100\n",
      "24/24 [==============================] - 26s 1s/step - loss: 0.2338 - acc: 0.9125 - val_loss: 0.9242 - val_acc: 0.7500\n",
      "Epoch 82/100\n",
      "24/24 [==============================] - 25s 1s/step - loss: 0.3567 - acc: 0.8875 - val_loss: 0.7086 - val_acc: 0.7833\n",
      "Epoch 83/100\n",
      "24/24 [==============================] - 26s 1s/step - loss: 0.2776 - acc: 0.8875 - val_loss: 1.0539 - val_acc: 0.6833\n",
      "Epoch 84/100\n",
      "24/24 [==============================] - 25s 1s/step - loss: 0.2777 - acc: 0.8833 - val_loss: 0.5631 - val_acc: 0.7500\n",
      "Epoch 85/100\n",
      "24/24 [==============================] - 24s 1s/step - loss: 0.3138 - acc: 0.8958 - val_loss: 1.1017 - val_acc: 0.6833\n",
      "Epoch 86/100\n",
      "24/24 [==============================] - 25s 1s/step - loss: 0.2122 - acc: 0.9250 - val_loss: 0.6227 - val_acc: 0.7500\n",
      "Epoch 87/100\n",
      "24/24 [==============================] - 27s 1s/step - loss: 0.3590 - acc: 0.8917 - val_loss: 1.0837 - val_acc: 0.6667\n",
      "Epoch 88/100\n",
      "24/24 [==============================] - 27s 1s/step - loss: 0.2675 - acc: 0.9042 - val_loss: 0.9066 - val_acc: 0.7500\n",
      "Epoch 89/100\n",
      "24/24 [==============================] - 26s 1s/step - loss: 0.2654 - acc: 0.8958 - val_loss: 0.9012 - val_acc: 0.6333\n",
      "Epoch 90/100\n",
      "24/24 [==============================] - 26s 1s/step - loss: 0.2452 - acc: 0.9042 - val_loss: 0.7671 - val_acc: 0.6667\n",
      "Epoch 91/100\n",
      "24/24 [==============================] - 26s 1s/step - loss: 0.2703 - acc: 0.9000 - val_loss: 0.7474 - val_acc: 0.6833\n",
      "Epoch 92/100\n",
      "24/24 [==============================] - 26s 1s/step - loss: 0.2533 - acc: 0.9042 - val_loss: 0.7021 - val_acc: 0.7000\n",
      "Epoch 93/100\n",
      "24/24 [==============================] - 26s 1s/step - loss: 0.1975 - acc: 0.9208 - val_loss: 0.6868 - val_acc: 0.7333\n",
      "Epoch 94/100\n",
      "24/24 [==============================] - 25s 1s/step - loss: 0.2382 - acc: 0.9083 - val_loss: 0.8470 - val_acc: 0.6833\n",
      "Epoch 95/100\n",
      "24/24 [==============================] - 24s 1s/step - loss: 0.2492 - acc: 0.9125 - val_loss: 0.8388 - val_acc: 0.6833\n",
      "Epoch 96/100\n",
      "24/24 [==============================] - 25s 1s/step - loss: 0.2733 - acc: 0.8958 - val_loss: 0.6627 - val_acc: 0.6667\n",
      "Epoch 97/100\n",
      "24/24 [==============================] - 24s 1s/step - loss: 0.2750 - acc: 0.9042 - val_loss: 0.6926 - val_acc: 0.7333\n",
      "Epoch 98/100\n",
      "24/24 [==============================] - 24s 1s/step - loss: 0.2701 - acc: 0.9208 - val_loss: 0.7415 - val_acc: 0.6000\n",
      "Epoch 99/100\n",
      "24/24 [==============================] - 24s 1s/step - loss: 0.1879 - acc: 0.9333 - val_loss: 0.8546 - val_acc: 0.6500\n",
      "Epoch 100/100\n",
      "24/24 [==============================] - 24s 1s/step - loss: 0.1796 - acc: 0.9417 - val_loss: 0.6742 - val_acc: 0.7833\n"
     ]
    }
   ],
   "source": [
    "print(len(train_batches))\n",
    "print(len(valid_batches))\n",
    "STEP_SIZE_TRAIN=train_batches.n//train_batches.batch_size\n",
    "STEP_SIZE_VALID=valid_batches.n//valid_batches.batch_size\n",
    "history_2=model_2.fit(train_batches,steps_per_epoch=STEP_SIZE_TRAIN,validation_steps=STEP_SIZE_VALID,epochs=NUM_EPOCHS,validation_data=valid_batches,verbose=1)"
   ]
  },
  {
   "cell_type": "markdown",
   "metadata": {
    "nbpresent": {
     "id": "66140980-2aa4-457f-b1df-74c10c234cc2"
    }
   },
   "source": [
    "####  Plot Accuracy and Loss During Training"
   ]
  },
  {
   "cell_type": "code",
   "execution_count": 11,
   "metadata": {},
   "outputs": [
    {
     "data": {
      "image/png": "[encoded data removed]",
      "text/plain": [
       "<Figure size 432x288 with 1 Axes>"
      ]
     },
     "metadata": {
      "needs_background": "light"
     },
     "output_type": "display_data"
    }
   ],
   "source": [
    "plt.xlabel(\"Epoch\")\n",
    "plt.ylabel(\"Accuracy\")\n",
    "e_arr=list(range(1,101))\n",
    "plt.plot(e_arr,history_1.history['acc'],fillstyle=\"left\",label='training accuracy')\n",
    "plt.plot(e_arr,history_1.history['val_acc'],fillstyle=\"right\",label = 'validation accuracy')\n",
    "plt.legend(loc='lower right')\n",
    "plt.show()"
   ]
  },
  {
   "cell_type": "code",
   "execution_count": 12,
   "metadata": {},
   "outputs": [
    {
     "data": {
      "image/png": "[encoded data removed]",
      "text/plain": [
       "<Figure size 432x288 with 1 Axes>"
      ]
     },
     "metadata": {
      "needs_background": "light"
     },
     "output_type": "display_data"
    }
   ],
   "source": [
    "plt.xlabel(\"Epoch\")\n",
    "plt.ylabel(\"Loss\")\n",
    "e_arr=list(range(1,101))\n",
    "plt.plot(e_arr,history_1.history['loss'],fillstyle=\"left\",label='training loss')\n",
    "plt.plot(e_arr,history_1.history['val_loss'],fillstyle=\"right\",label = 'validation loss')\n",
    "plt.legend(loc='upper right')\n",
    "plt.show()"
   ]
  },
  {
   "cell_type": "code",
   "execution_count": 13,
   "metadata": {},
   "outputs": [
    {
     "data": {
      "image/png": "[encoded data removed]",
      "text/plain": [
       "<Figure size 432x288 with 1 Axes>"
      ]
     },
     "metadata": {
      "needs_background": "light"
     },
     "output_type": "display_data"
    }
   ],
   "source": [
    "plt.xlabel(\"Epoch\")\n",
    "plt.ylabel(\"Accuracy\")\n",
    "e_arr=list(range(1,101))\n",
    "plt.plot(e_arr,history_2.history['acc'],fillstyle=\"left\",label='training accuracy')\n",
    "plt.plot(e_arr,history_2.history['val_acc'],fillstyle=\"right\",label = 'validation accuracy')\n",
    "plt.legend(loc='lower right')\n",
    "plt.show()"
   ]
  },
  {
   "cell_type": "code",
   "execution_count": 14,
   "metadata": {},
   "outputs": [
    {
     "data": {
      "image/png": "[encoded data removed]",
      "text/plain": [
       "<Figure size 432x288 with 1 Axes>"
      ]
     },
     "metadata": {
      "needs_background": "light"
     },
     "output_type": "display_data"
    }
   ],
   "source": [
    "plt.xlabel(\"Epoch\")\n",
    "plt.ylabel(\"Loss\")\n",
    "e_arr=list(range(1,101))\n",
    "plt.plot(e_arr,history_2.history['loss'],fillstyle=\"left\",label='training loss')\n",
    "plt.plot(e_arr,history_2.history['val_loss'],fillstyle=\"right\",label = 'validation loss')\n",
    "plt.legend(loc='upper right')\n",
    "plt.show()"
   ]
  },
  {
   "cell_type": "markdown",
   "metadata": {
    "nbpresent": {
     "id": "66140980-2aa4-457f-b1df-74c10c234cc2"
    }
   },
   "source": [
    "#### Testing Model"
   ]
  },
  {
   "cell_type": "code",
   "execution_count": 15,
   "metadata": {},
   "outputs": [
    {
     "name": "stdout",
     "output_type": "stream",
     "text": [
      "Found 60 images belonging to 3 classes.\n",
      "60\n",
      "\r",
      " 1/60 [..............................] - ETA: 7s - loss: 1.0147 - acc: 0.0000e+00"
     ]
    },
    {
     "name": "stderr",
     "output_type": "stream",
     "text": [
      "C:\\Users\\rexzo\\AppData\\Local\\Temp\\ipykernel_21728\\1493150212.py:7: UserWarning: `Model.evaluate_generator` is deprecated and will be removed in a future version. Please use `Model.evaluate`, which supports generators.\n",
      "  x = model_1.evaluate_generator(eval_generator,steps = np.ceil(len(eval_generator)),\n"
     ]
    },
    {
     "name": "stdout",
     "output_type": "stream",
     "text": [
      "60/60 [==============================] - 6s 95ms/step - loss: 1.2586 - acc: 0.7167\n",
      "Test loss: 1.258617877960205\n",
      "Test accuracy: 0.7166666388511658\n"
     ]
    }
   ],
   "source": [
    "test_datagen = ImageDataGenerator(rescale=1. / 255)\n",
    "\n",
    "eval_generator = test_datagen.flow_from_directory(TEST_DIR,target_size=IMAGE_SIZE,\n",
    "                                                  batch_size=1,shuffle=False,seed=42,class_mode=\"categorical\")\n",
    "eval_generator.reset()\n",
    "print(len(eval_generator))\n",
    "x = model_1.evaluate_generator(eval_generator,steps = np.ceil(len(eval_generator)),\n",
    "                           use_multiprocessing = False,verbose = 1,workers=1)\n",
    "print('Test loss:' , x[0])\n",
    "print('Test accuracy:',x[1])"
   ]
  },
  {
   "cell_type": "code",
   "execution_count": 16,
   "metadata": {},
   "outputs": [
    {
     "name": "stdout",
     "output_type": "stream",
     "text": [
      "Found 60 images belonging to 3 classes.\n",
      "60\n",
      " 1/60 [..............................] - ETA: 6s - loss: 0.0052 - acc: 1.0000"
     ]
    },
    {
     "name": "stderr",
     "output_type": "stream",
     "text": [
      "C:\\Users\\rexzo\\AppData\\Local\\Temp\\ipykernel_21728\\738531987.py:7: UserWarning: `Model.evaluate_generator` is deprecated and will be removed in a future version. Please use `Model.evaluate`, which supports generators.\n",
      "  x = model_2.evaluate_generator(eval_generator,steps = np.ceil(len(eval_generator)),\n"
     ]
    },
    {
     "name": "stdout",
     "output_type": "stream",
     "text": [
      "60/60 [==============================] - 5s 78ms/step - loss: 0.0360 - acc: 1.0000\n",
      "Test loss: 0.03604675084352493\n",
      "Test accuracy: 1.0\n"
     ]
    }
   ],
   "source": [
    "test_datagen = ImageDataGenerator(rescale=1. / 255)\n",
    "\n",
    "eval_generator = test_datagen.flow_from_directory(TEST_DIR,target_size=IMAGE_SIZE,\n",
    "                                                  batch_size=1,shuffle=False,seed=42,class_mode=\"categorical\")\n",
    "eval_generator.reset()\n",
    "print(len(eval_generator))\n",
    "x = model_2.evaluate_generator(eval_generator,steps = np.ceil(len(eval_generator)),\n",
    "                           use_multiprocessing = False,verbose = 1,workers=1)\n",
    "print('Test loss:' , x[0])\n",
    "print('Test accuracy:',x[1])"
   ]
  },
  {
   "cell_type": "markdown",
   "metadata": {},
   "source": [
    "##  TSNE Plot"
   ]
  },
  {
   "cell_type": "code",
   "execution_count": 17,
   "metadata": {},
   "outputs": [
    {
     "name": "stdout",
     "output_type": "stream",
     "text": [
      "Found 300 images belonging to 3 classes.\n"
     ]
    }
   ],
   "source": [
    "from sklearn.manifold import TSNE\n",
    "\n",
    "intermediate_layer_model_1 = models.Model(inputs=model_1.input,\n",
    "                                        outputs=model_1.get_layer('feature_dense_1').output)\n",
    "intermediate_layer_model_2 = models.Model(inputs=model_2.input,\n",
    "                                        outputs=model_2.get_layer('feature_dense_2').output)\n",
    "tsne_eval_generator = test_datagen.flow_from_directory(DATASET_PATH,target_size=IMAGE_SIZE,\n",
    "                                                  batch_size=1,shuffle=False,seed=42,class_mode=\"categorical\")"
   ]
  },
  {
   "cell_type": "code",
   "execution_count": 18,
   "metadata": {},
   "outputs": [
    {
     "name": "stderr",
     "output_type": "stream",
     "text": [
      "C:\\Users\\rexzo\\AppData\\Local\\Programs\\Python\\Python310\\lib\\site-packages\\sklearn\\manifold\\_t_sne.py:780: FutureWarning: The default initialization in TSNE will change from 'random' to 'pca' in 1.2.\n",
      "  warnings.warn(\n",
      "C:\\Users\\rexzo\\AppData\\Local\\Programs\\Python\\Python310\\lib\\site-packages\\sklearn\\manifold\\_t_sne.py:790: FutureWarning: The default learning rate in TSNE will change from 200.0 to 'auto' in 1.2.\n",
      "  warnings.warn(\n"
     ]
    }
   ],
   "source": [
    "X_predicted_1=intermediate_layer_model_1.predict(tsne_eval_generator)\n",
    "X_embedded_1 = TSNE(n_components=2).fit_transform(X_predicted_1)"
   ]
  },
  {
   "cell_type": "code",
   "execution_count": 19,
   "metadata": {},
   "outputs": [
    {
     "name": "stderr",
     "output_type": "stream",
     "text": [
      "C:\\Users\\rexzo\\AppData\\Local\\Programs\\Python\\Python310\\lib\\site-packages\\sklearn\\manifold\\_t_sne.py:780: FutureWarning: The default initialization in TSNE will change from 'random' to 'pca' in 1.2.\n",
      "  warnings.warn(\n",
      "C:\\Users\\rexzo\\AppData\\Local\\Programs\\Python\\Python310\\lib\\site-packages\\sklearn\\manifold\\_t_sne.py:790: FutureWarning: The default learning rate in TSNE will change from 200.0 to 'auto' in 1.2.\n",
      "  warnings.warn(\n"
     ]
    }
   ],
   "source": [
    "X_predicted_2=intermediate_layer_model_2.predict(tsne_eval_generator)\n",
    "X_embedded_2 = TSNE(n_components=2).fit_transform(X_predicted_2)"
   ]
  },
  {
   "cell_type": "code",
   "execution_count": 20,
   "metadata": {},
   "outputs": [
    {
     "data": {
      "image/png": "[encoded data removed]",
      "text/plain": [
       "<Figure size 432x288 with 1 Axes>"
      ]
     },
     "metadata": {
      "needs_background": "light"
     },
     "output_type": "display_data"
    }
   ],
   "source": [
    "for i in range(len(tsne_eval_generator)):\n",
    "    color=tsne_eval_generator[i][1].argmax()\n",
    "    if color==0:\n",
    "        s1=plt.scatter(X_embedded_1[i, 0], X_embedded_1[i, 1],c='r')\n",
    "    elif color==1:\n",
    "        s2=plt.scatter(X_embedded_1[i, 0], X_embedded_1[i, 1],c='b')\n",
    "    elif color==2:\n",
    "        s3=plt.scatter(X_embedded_1[i, 0], X_embedded_1[i, 1],c='c')\n",
    "plt.legend((s1,s2,s3),('COVID-19','Normal','cap') ,loc = 'best')\n",
    "plt.show()"
   ]
  },
  {
   "cell_type": "code",
   "execution_count": 21,
   "metadata": {},
   "outputs": [
    {
     "data": {
      "image/png": "[encoded data removed]",
      "text/plain": [
       "<Figure size 432x288 with 1 Axes>"
      ]
     },
     "metadata": {
      "needs_background": "light"
     },
     "output_type": "display_data"
    }
   ],
   "source": [
    "for i in range(len(tsne_eval_generator)):\n",
    "    color=tsne_eval_generator[i][1].argmax()\n",
    "    if color==0:\n",
    "        s1=plt.scatter(X_embedded_2[i, 0], X_embedded_2[i, 1],c='r')\n",
    "    elif color==1:\n",
    "        s2=plt.scatter(X_embedded_2[i, 0], X_embedded_2[i, 1],c='b')\n",
    "    elif color==2:\n",
    "        s3=plt.scatter(X_embedded_2[i, 0], X_embedded_2[i, 1],c='c')\n",
    "plt.legend((s1,s2,s3),('COVID-19','Normal','cap') ,loc = 'best')\n",
    "plt.show()"
   ]
  },
  {
   "cell_type": "markdown",
   "metadata": {},
   "source": [
    "<!-- ## Task 2: COVID-19 vs Normal vs Tertiary Pneumonia (Bacterial and Viral) -->"
   ]
  },
  {
   "cell_type": "markdown",
   "metadata": {
    "nbpresent": {
     "id": "66140980-2aa4-457f-b1df-74c10c234cc2"
    }
   },
   "source": [
    "<!-- #### Renew Training Batch and Validation Batch -->"
   ]
  },
  {
   "cell_type": "markdown",
   "metadata": {
    "nbpresent": {
     "id": "66140980-2aa4-457f-b1df-74c10c234cc2"
    }
   },
   "source": [
    "<!-- #### Renew Model -->"
   ]
  }
 ],
 "metadata": {
  "kernelspec": {
   "display_name": "Python 3 (ipykernel)",
   "language": "python",
   "name": "python3"
  },
  "language_info": {
   "codemirror_mode": {
    "name": "ipython",
    "version": 3
   },
   "file_extension": ".py",
   "mimetype": "text/x-python",
   "name": "python",
   "nbconvert_exporter": "python",
   "pygments_lexer": "ipython3",
   "version": "3.10.2"
  },
  "latex_envs": {
   "LaTeX_envs_menu_present": true,
   "autoclose": false,
   "autocomplete": true,
   "bibliofile": "biblio.bib",
   "cite_by": "apalike",
   "current_citInitial": 1,
   "eqLabelWithNumbers": true,
   "eqNumInitial": 1,
   "hotkeys": {
    "equation": "Ctrl-E",
    "itemize": "Ctrl-I"
   },
   "labels_anchors": false,
   "latex_user_defs": false,
   "report_style_numbering": false,
   "user_envs_cfg": false
  },
  "toc": {
   "base_numbering": 1,
   "nav_menu": {},
   "number_sections": true,
   "sideBar": true,
   "skip_h1_title": false,
   "title_cell": "Table of Contents",
   "title_sidebar": "Contents",
   "toc_cell": false,
   "toc_position": {},
   "toc_section_display": true,
   "toc_window_display": false
  },
  "varInspector": {
   "cols": {
    "lenName": 16,
    "lenType": 16,
    "lenVar": 40
   },
   "kernels_config": {
    "python": {
     "delete_cmd_postfix": "",
     "delete_cmd_prefix": "del ",
     "library": "var_list.py",
     "varRefreshCmd": "print(var_dic_list())"
    },
    "r": {
     "delete_cmd_postfix": ") ",
     "delete_cmd_prefix": "rm(",
     "library": "var_list.r",
     "varRefreshCmd": "cat(var_dic_list()) "
    }
   },
   "types_to_exclude": [
    "module",
    "function",
    "builtin_function_or_method",
    "instance",
    "_Feature"
   ],
   "window_display": false
  }
 },
 "nbformat": 4,
 "nbformat_minor": 4
}
