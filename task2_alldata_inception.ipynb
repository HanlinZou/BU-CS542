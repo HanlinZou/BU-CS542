{
 "cells": [
  {
   "cell_type": "code",
   "execution_count": 1,
   "metadata": {
    "nbpresent": {
     "id": "5e05f980-3d14-4367-b3d1-664249145b13"
    },
    "scrolled": true
   },
   "outputs": [
    {
     "data": {
      "text/plain": [
       "'2.7.0'"
      ]
     },
     "execution_count": 1,
     "metadata": {},
     "output_type": "execute_result"
    }
   ],
   "source": [
    "import os\n",
    "\n",
    "import tensorflow as tf\n",
    "import numpy as np\n",
    "import matplotlib.pyplot as plt\n",
    "from tensorflow.keras.preprocessing.image import ImageDataGenerator\n",
    "\n",
    "os.environ['OMP_NUM_THREADS'] = '1'\n",
    "os.environ['CUDA_VISIBLE_DEVICES'] = '-1'\n",
    "tf.__version__"
   ]
  },
  {
   "cell_type": "markdown",
   "metadata": {
    "nbpresent": {
     "id": "66140980-2aa4-457f-b1df-74c10c234cc2"
    }
   },
   "source": [
    "#### Load Image Data"
   ]
  },
  {
   "cell_type": "code",
   "execution_count": 2,
   "metadata": {
    "nbpresent": {
     "id": "58317664-8da3-4283-b3e5-35721687e7ab"
    }
   },
   "outputs": [],
   "source": [
    "DATA_LIST = os.listdir('all/train')\n",
    "DATASET_PATH  = 'all/train'\n",
    "TEST_DIR =  'all/test'\n",
    "IMAGE_SIZE    = (224, 224)\n",
    "NUM_CLASSES   = len(DATA_LIST)\n",
    "BATCH_SIZE    = 10\n",
    "NUM_EPOCHS    = 50\n",
    "LEARNING_RATE = 0.00005"
   ]
  },
  {
   "cell_type": "markdown",
   "metadata": {
    "nbpresent": {
     "id": "66140980-2aa4-457f-b1df-74c10c234cc2"
    }
   },
   "source": [
    "#### Generate Training and Validation Batches"
   ]
  },
  {
   "cell_type": "code",
   "execution_count": 3,
   "metadata": {
    "nbpresent": {
     "id": "71760e29-2b08-4259-93f1-ebe68cd74a6d"
    }
   },
   "outputs": [
    {
     "name": "stderr",
     "output_type": "stream",
     "text": [
      "/share/pkg.7/tensorflow/2.7.0/install/lib/SCC/../python3.9/site-packages/keras_preprocessing/image/image_data_generator.py:342: UserWarning: This ImageDataGenerator specifies `zca_whitening` which overrides setting of`featurewise_std_normalization`.\n",
      "  warnings.warn('This ImageDataGenerator specifies '\n"
     ]
    },
    {
     "name": "stdout",
     "output_type": "stream",
     "text": [
      "Found 8212 images belonging to 3 classes.\n",
      "Found 2050 images belonging to 3 classes.\n"
     ]
    }
   ],
   "source": [
    "train_datagen = ImageDataGenerator(rescale=1./255,rotation_range=50,featurewise_center = True,\n",
    "                                   featurewise_std_normalization = True,width_shift_range=0.2,\n",
    "                                   height_shift_range=0.2,shear_range=0.25,zoom_range=0.1,\n",
    "                                   zca_whitening = True,channel_shift_range = 20,\n",
    "                                   horizontal_flip = True,vertical_flip = True,\n",
    "                                   validation_split = 0.2,fill_mode='constant')\n",
    "\n",
    "\n",
    "train_batches = train_datagen.flow_from_directory(DATASET_PATH,target_size=IMAGE_SIZE,\n",
    "                                                  shuffle=False,batch_size=BATCH_SIZE,\n",
    "                                                  subset = \"training\",seed=42,\n",
    "                                                  class_mode=\"categorical\")\n",
    "\n",
    "valid_batches = train_datagen.flow_from_directory(DATASET_PATH,target_size=IMAGE_SIZE,\n",
    "                                                  shuffle=False,batch_size=BATCH_SIZE,\n",
    "                                                  subset = \"validation\",\n",
    "                                                  seed=42,class_mode=\"categorical\")"
   ]
  },
  {
   "cell_type": "markdown",
   "metadata": {
    "nbpresent": {
     "id": "66140980-2aa4-457f-b1df-74c10c234cc2"
    }
   },
   "source": [
    "#### Build Model"
   ]
  },
  {
   "cell_type": "code",
   "execution_count": 4,
   "metadata": {},
   "outputs": [],
   "source": [
    "from tensorflow.keras import models\n",
    "from tensorflow.keras import layers\n",
    "from tensorflow.keras import applications "
   ]
  },
  {
   "cell_type": "code",
   "execution_count": 5,
   "metadata": {},
   "outputs": [
    {
     "name": "stdout",
     "output_type": "stream",
     "text": [
      "Model: \"sequential\"\n",
      "_________________________________________________________________\n",
      " Layer (type)                Output Shape              Param #   \n",
      "=================================================================\n",
      " inception_v3 (Functional)   (None, 5, 5, 2048)        21802784  \n",
      "                                                                 \n",
      " flatten (Flatten)           (None, 51200)             0         \n",
      "                                                                 \n",
      " dense (Dense)               (None, 4096)              209719296 \n",
      "                                                                 \n",
      " dropout (Dropout)           (None, 4096)              0         \n",
      "                                                                 \n",
      " dense_1 (Dense)             (None, 1024)              4195328   \n",
      "                                                                 \n",
      " dropout_1 (Dropout)         (None, 1024)              0         \n",
      "                                                                 \n",
      " dense_2 (Dense)             (None, 256)               262400    \n",
      "                                                                 \n",
      " feature_dense_2 (Dense)     (None, 64)                16448     \n",
      "                                                                 \n",
      " dense_3 (Dense)             (None, 3)                 195       \n",
      "                                                                 \n",
      "=================================================================\n",
      "Total params: 235,996,451\n",
      "Trainable params: 214,193,667\n",
      "Non-trainable params: 21,802,784\n",
      "_________________________________________________________________\n",
      "None\n"
     ]
    }
   ],
   "source": [
    "conv_base_2=applications.InceptionV3(include_top=False,weights=\"imagenet\",input_shape=(224,224,3))\n",
    "conv_base_2.trainable=False\n",
    "model_2=models.Sequential()\n",
    "model_2.add(conv_base_2)\n",
    "model_2.add(layers.Flatten())\n",
    "model_2.add(layers.Dense(4096,activation=\"relu\"))\n",
    "model_2.add(layers.Dropout(0.5))\n",
    "model_2.add(layers.Dense(1024,activation=\"relu\"))\n",
    "model_2.add(layers.Dropout(0.5))\n",
    "model_2.add(layers.Dense(256,activation=\"relu\"))\n",
    "model_2.add(layers.Dense(64,activation=\"relu\",name='feature_dense_2'))\n",
    "model_2.add(layers.Dense(3,activation=\"softmax\"))\n",
    "\n",
    "print(model_2.summary())"
   ]
  },
  {
   "cell_type": "markdown",
   "metadata": {
    "nbpresent": {
     "id": "66140980-2aa4-457f-b1df-74c10c234cc2"
    }
   },
   "source": [
    "#### Train Model"
   ]
  },
  {
   "cell_type": "code",
   "execution_count": 6,
   "metadata": {},
   "outputs": [],
   "source": [
    "model_2.compile(optimizer=tf.keras.optimizers.Adam(learning_rate=LEARNING_RATE),\n",
    "                loss='categorical_crossentropy',\n",
    "                metrics=['acc'])"
   ]
  },
  {
   "cell_type": "code",
   "execution_count": 7,
   "metadata": {
    "scrolled": false
   },
   "outputs": [
    {
     "name": "stdout",
     "output_type": "stream",
     "text": [
      "822\n",
      "205\n"
     ]
    },
    {
     "name": "stderr",
     "output_type": "stream",
     "text": [
      "/share/pkg.7/tensorflow/2.7.0/install/lib/SCC/../python3.9/site-packages/keras_preprocessing/image/image_data_generator.py:720: UserWarning: This ImageDataGenerator specifies `featurewise_center`, but it hasn't been fit on any training data. Fit it first by calling `.fit(numpy_data)`.\n",
      "  warnings.warn('This ImageDataGenerator specifies '\n",
      "/share/pkg.7/tensorflow/2.7.0/install/lib/SCC/../python3.9/site-packages/keras_preprocessing/image/image_data_generator.py:739: UserWarning: This ImageDataGenerator specifies `zca_whitening`, but it hasn't been fit on any training data. Fit it first by calling `.fit(numpy_data)`.\n",
      "  warnings.warn('This ImageDataGenerator specifies '\n"
     ]
    },
    {
     "name": "stdout",
     "output_type": "stream",
     "text": [
      "Epoch 1/50\n",
      "821/821 [==============================] - 1518s 2s/step - loss: 1.4598 - acc: 0.4970 - val_loss: 0.9808 - val_acc: 0.5971\n",
      "Epoch 2/50\n",
      "821/821 [==============================] - 1502s 2s/step - loss: 1.0273 - acc: 0.5575 - val_loss: 0.9527 - val_acc: 0.5937\n",
      "Epoch 3/50\n",
      "821/821 [==============================] - 1499s 2s/step - loss: 0.9499 - acc: 0.5802 - val_loss: 0.9596 - val_acc: 0.5922\n",
      "Epoch 4/50\n",
      "821/821 [==============================] - 1503s 2s/step - loss: 0.9031 - acc: 0.5922 - val_loss: 1.0227 - val_acc: 0.4639\n",
      "Epoch 5/50\n",
      "821/821 [==============================] - 1499s 2s/step - loss: 0.8833 - acc: 0.5984 - val_loss: 0.9894 - val_acc: 0.5288\n",
      "Epoch 6/50\n",
      "821/821 [==============================] - 1499s 2s/step - loss: 0.8608 - acc: 0.6114 - val_loss: 0.9445 - val_acc: 0.5610\n",
      "Epoch 7/50\n",
      "821/821 [==============================] - 1501s 2s/step - loss: 0.8367 - acc: 0.6118 - val_loss: 0.9433 - val_acc: 0.5605\n",
      "Epoch 8/50\n",
      "821/821 [==============================] - 1498s 2s/step - loss: 0.8277 - acc: 0.6144 - val_loss: 0.9497 - val_acc: 0.6000\n",
      "Epoch 9/50\n",
      "821/821 [==============================] - 1493s 2s/step - loss: 0.8025 - acc: 0.6324 - val_loss: 0.9878 - val_acc: 0.6015\n",
      "Epoch 10/50\n",
      "821/821 [==============================] - 1499s 2s/step - loss: 0.7953 - acc: 0.6369 - val_loss: 1.1577 - val_acc: 0.4171\n",
      "Epoch 11/50\n",
      "821/821 [==============================] - 1494s 2s/step - loss: 0.7790 - acc: 0.6505 - val_loss: 1.0153 - val_acc: 0.4937\n",
      "Epoch 12/50\n",
      "821/821 [==============================] - 1495s 2s/step - loss: 0.7672 - acc: 0.6419 - val_loss: 0.9326 - val_acc: 0.5976\n",
      "Epoch 13/50\n",
      "821/821 [==============================] - 1500s 2s/step - loss: 0.7587 - acc: 0.6506 - val_loss: 0.9222 - val_acc: 0.6010\n",
      "Epoch 14/50\n",
      "821/821 [==============================] - 1499s 2s/step - loss: 0.7420 - acc: 0.6548 - val_loss: 0.9554 - val_acc: 0.5527\n",
      "Epoch 15/50\n",
      "821/821 [==============================] - 1497s 2s/step - loss: 0.7413 - acc: 0.6550 - val_loss: 0.9952 - val_acc: 0.5449\n",
      "Epoch 16/50\n",
      "821/821 [==============================] - 1495s 2s/step - loss: 0.7340 - acc: 0.6568 - val_loss: 0.9023 - val_acc: 0.6185\n",
      "Epoch 17/50\n",
      "821/821 [==============================] - 1498s 2s/step - loss: 0.7186 - acc: 0.6664 - val_loss: 0.9430 - val_acc: 0.5790\n",
      "Epoch 18/50\n",
      "821/821 [==============================] - 1497s 2s/step - loss: 0.7165 - acc: 0.6633 - val_loss: 1.0960 - val_acc: 0.4907\n",
      "Epoch 19/50\n",
      "821/821 [==============================] - 1497s 2s/step - loss: 0.7231 - acc: 0.6604 - val_loss: 0.9441 - val_acc: 0.5771\n",
      "Epoch 20/50\n",
      "821/821 [==============================] - 1490s 2s/step - loss: 0.6967 - acc: 0.6614 - val_loss: 1.1358 - val_acc: 0.4702\n",
      "Epoch 21/50\n",
      "821/821 [==============================] - 1498s 2s/step - loss: 0.6907 - acc: 0.6740 - val_loss: 0.9996 - val_acc: 0.5341\n",
      "Epoch 22/50\n",
      "821/821 [==============================] - 1494s 2s/step - loss: 0.7016 - acc: 0.6758 - val_loss: 1.0360 - val_acc: 0.5283\n",
      "Epoch 23/50\n",
      "821/821 [==============================] - 1492s 2s/step - loss: 0.6853 - acc: 0.6811 - val_loss: 1.0692 - val_acc: 0.4922\n",
      "Epoch 24/50\n",
      "821/821 [==============================] - 1494s 2s/step - loss: 0.6879 - acc: 0.6761 - val_loss: 1.2346 - val_acc: 0.4200\n",
      "Epoch 25/50\n",
      "821/821 [==============================] - 1491s 2s/step - loss: 0.6894 - acc: 0.6697 - val_loss: 0.9609 - val_acc: 0.5668\n",
      "Epoch 26/50\n",
      "821/821 [==============================] - 1498s 2s/step - loss: 0.6713 - acc: 0.6763 - val_loss: 0.9353 - val_acc: 0.6020\n",
      "Epoch 27/50\n",
      "821/821 [==============================] - 1492s 2s/step - loss: 0.6725 - acc: 0.6748 - val_loss: 1.1370 - val_acc: 0.4698\n",
      "Epoch 28/50\n",
      "821/821 [==============================] - 1499s 2s/step - loss: 0.6675 - acc: 0.6834 - val_loss: 0.9400 - val_acc: 0.5878\n",
      "Epoch 29/50\n",
      "821/821 [==============================] - 1496s 2s/step - loss: 0.6663 - acc: 0.6792 - val_loss: 0.9786 - val_acc: 0.5556\n",
      "Epoch 30/50\n",
      "821/821 [==============================] - 1498s 2s/step - loss: 0.6565 - acc: 0.6856 - val_loss: 0.9963 - val_acc: 0.5302\n",
      "Epoch 31/50\n",
      "821/821 [==============================] - 1499s 2s/step - loss: 0.6603 - acc: 0.6793 - val_loss: 1.1345 - val_acc: 0.4800\n",
      "Epoch 32/50\n",
      "821/821 [==============================] - 1497s 2s/step - loss: 0.6524 - acc: 0.6862 - val_loss: 1.0423 - val_acc: 0.5307\n",
      "Epoch 33/50\n",
      "821/821 [==============================] - 1497s 2s/step - loss: 0.6464 - acc: 0.6898 - val_loss: 0.9461 - val_acc: 0.5571\n",
      "Epoch 34/50\n",
      "821/821 [==============================] - 1497s 2s/step - loss: 0.6379 - acc: 0.6854 - val_loss: 0.9111 - val_acc: 0.6088\n",
      "Epoch 35/50\n",
      "821/821 [==============================] - 1496s 2s/step - loss: 0.6439 - acc: 0.6846 - val_loss: 1.0117 - val_acc: 0.5229\n",
      "Epoch 36/50\n",
      "821/821 [==============================] - 1501s 2s/step - loss: 0.6386 - acc: 0.6848 - val_loss: 1.4066 - val_acc: 0.3927\n",
      "Epoch 37/50\n",
      "821/821 [==============================] - 1500s 2s/step - loss: 0.6390 - acc: 0.6901 - val_loss: 1.0641 - val_acc: 0.5127\n",
      "Epoch 38/50\n",
      "821/821 [==============================] - 1498s 2s/step - loss: 0.6200 - acc: 0.6951 - val_loss: 0.9531 - val_acc: 0.5571\n",
      "Epoch 39/50\n",
      "821/821 [==============================] - 1496s 2s/step - loss: 0.6379 - acc: 0.6875 - val_loss: 0.9582 - val_acc: 0.5673\n",
      "Epoch 40/50\n",
      "821/821 [==============================] - 1498s 2s/step - loss: 0.6258 - acc: 0.6984 - val_loss: 0.9719 - val_acc: 0.5561\n",
      "Epoch 41/50\n",
      "821/821 [==============================] - 1500s 2s/step - loss: 0.6202 - acc: 0.6959 - val_loss: 0.9962 - val_acc: 0.5424\n",
      "Epoch 42/50\n",
      "821/821 [==============================] - 1496s 2s/step - loss: 0.6282 - acc: 0.6881 - val_loss: 0.9887 - val_acc: 0.5298\n",
      "Epoch 43/50\n",
      "821/821 [==============================] - 1495s 2s/step - loss: 0.6221 - acc: 0.7014 - val_loss: 1.0359 - val_acc: 0.5366\n",
      "Epoch 44/50\n",
      "821/821 [==============================] - 1495s 2s/step - loss: 0.6218 - acc: 0.7040 - val_loss: 0.9718 - val_acc: 0.5717\n",
      "Epoch 45/50\n",
      "821/821 [==============================] - 1498s 2s/step - loss: 0.6116 - acc: 0.7028 - val_loss: 0.9915 - val_acc: 0.5678\n",
      "Epoch 46/50\n",
      "821/821 [==============================] - 1498s 2s/step - loss: 0.6193 - acc: 0.6906 - val_loss: 0.9526 - val_acc: 0.5805\n",
      "Epoch 47/50\n",
      "821/821 [==============================] - 1563s 2s/step - loss: 0.6213 - acc: 0.7012 - val_loss: 0.9623 - val_acc: 0.5737\n",
      "Epoch 48/50\n",
      "821/821 [==============================] - 1594s 2s/step - loss: 0.6097 - acc: 0.6959 - val_loss: 1.2320 - val_acc: 0.4590\n",
      "Epoch 49/50\n",
      "821/821 [==============================] - 1522s 2s/step - loss: 0.6065 - acc: 0.6917 - val_loss: 1.0101 - val_acc: 0.5463\n",
      "Epoch 50/50\n",
      "821/821 [==============================] - 1495s 2s/step - loss: 0.6025 - acc: 0.6991 - val_loss: 1.0757 - val_acc: 0.5083\n"
     ]
    }
   ],
   "source": [
    "#FIT MODEL\n",
    "print(len(train_batches))\n",
    "print(len(valid_batches))\n",
    "STEP_SIZE_TRAIN=train_batches.n//train_batches.batch_size\n",
    "STEP_SIZE_VALID=valid_batches.n//valid_batches.batch_size\n",
    "history_2=model_2.fit(train_batches,steps_per_epoch=STEP_SIZE_TRAIN,validation_steps=STEP_SIZE_VALID,epochs=NUM_EPOCHS,validation_data=valid_batches,verbose=1)"
   ]
  },
  {
   "cell_type": "markdown",
   "metadata": {
    "nbpresent": {
     "id": "66140980-2aa4-457f-b1df-74c10c234cc2"
    }
   },
   "source": [
    "#### Plot Accuracy and Loss During Training"
   ]
  },
  {
   "cell_type": "code",
   "execution_count": 8,
   "metadata": {},
   "outputs": [
    {
     "data": {
      "image/png": "[encoded data removed]",
      "text/plain": [
       "<Figure size 432x288 with 1 Axes>"
      ]
     },
     "metadata": {
      "needs_background": "light"
     },
     "output_type": "display_data"
    }
   ],
   "source": [
    "plt.xlabel(\"Epoch\")\n",
    "plt.ylabel(\"Accuracy\")\n",
    "e_arr=list(range(1,51))\n",
    "plt.plot(e_arr,history_2.history['acc'],fillstyle=\"left\",label='training accuracy')\n",
    "plt.plot(e_arr,history_2.history['val_acc'],fillstyle=\"right\",label = 'validation accuracy')\n",
    "plt.legend(loc='lower right')\n",
    "plt.show()"
   ]
  },
  {
   "cell_type": "code",
   "execution_count": 9,
   "metadata": {},
   "outputs": [
    {
     "data": {
      "image/png": "[encoded data removed]",
      "text/plain": [
       "<Figure size 432x288 with 1 Axes>"
      ]
     },
     "metadata": {
      "needs_background": "light"
     },
     "output_type": "display_data"
    }
   ],
   "source": [
    "plt.xlabel(\"Epoch\")\n",
    "plt.ylabel(\"Loss\")\n",
    "e_arr=list(range(1,51))\n",
    "plt.plot(e_arr,history_2.history['loss'],fillstyle=\"left\",label='training loss')\n",
    "plt.plot(e_arr,history_2.history['val_loss'],fillstyle=\"right\",label = 'validation loss')\n",
    "plt.legend(loc='upper right')\n",
    "plt.show()"
   ]
  },
  {
   "cell_type": "markdown",
   "metadata": {
    "nbpresent": {
     "id": "66140980-2aa4-457f-b1df-74c10c234cc2"
    }
   },
   "source": [
    "#### Testing Model"
   ]
  },
  {
   "cell_type": "code",
   "execution_count": 10,
   "metadata": {},
   "outputs": [
    {
     "name": "stdout",
     "output_type": "stream",
     "text": [
      "Found 3422 images belonging to 3 classes.\n",
      "3422\n"
     ]
    },
    {
     "name": "stderr",
     "output_type": "stream",
     "text": [
      "/scratch/5258250.1.p100/ipykernel_1185/738531987.py:7: UserWarning: `Model.evaluate_generator` is deprecated and will be removed in a future version. Please use `Model.evaluate`, which supports generators.\n",
      "  x = model_2.evaluate_generator(eval_generator,steps = np.ceil(len(eval_generator)),\n"
     ]
    },
    {
     "name": "stdout",
     "output_type": "stream",
     "text": [
      "3422/3422 [==============================] - 507s 148ms/step - loss: 3.8591 - acc: 0.4123\n",
      "Test loss: 3.8590927124023438\n",
      "Test accuracy: 0.4123319685459137\n"
     ]
    }
   ],
   "source": [
    "test_datagen = ImageDataGenerator(rescale=1. / 255)\n",
    "\n",
    "eval_generator = test_datagen.flow_from_directory(TEST_DIR,target_size=IMAGE_SIZE,\n",
    "                                                  batch_size=1,shuffle=False,seed=42,class_mode=\"categorical\")\n",
    "eval_generator.reset()\n",
    "print(len(eval_generator))\n",
    "x = model_2.evaluate_generator(eval_generator,steps = np.ceil(len(eval_generator)),\n",
    "                           use_multiprocessing = False,verbose = 1,workers=1)\n",
    "print('Test loss:' , x[0])\n",
    "print('Test accuracy:',x[1])"
   ]
  },
  {
   "cell_type": "markdown",
   "metadata": {
    "nbpresent": {
     "id": "66140980-2aa4-457f-b1df-74c10c234cc2"
    }
   },
   "source": [
    "##  TSNE Plot"
   ]
  },
  {
   "cell_type": "code",
   "execution_count": 13,
   "metadata": {},
   "outputs": [
    {
     "name": "stdout",
     "output_type": "stream",
     "text": [
      "Found 10262 images belonging to 3 classes.\n"
     ]
    }
   ],
   "source": [
    "from sklearn.manifold import TSNE\n",
    "\n",
    "# intermediate_layer_model_1 = models.Model(inputs=model_1.input,\n",
    "                                        #outputs=model_1.get_layer('feature_dense_1').output)\n",
    "intermediate_layer_model_2 = models.Model(inputs=model_2.input,\n",
    "                                        outputs=model_2.get_layer('feature_dense_2').output)\n",
    "tsne_eval_generator = test_datagen.flow_from_directory(DATASET_PATH,target_size=IMAGE_SIZE,\n",
    "                                                  batch_size=1,shuffle=False,seed=42,class_mode=\"categorical\")"
   ]
  },
  {
   "cell_type": "code",
   "execution_count": 14,
   "metadata": {},
   "outputs": [
    {
     "name": "stderr",
     "output_type": "stream",
     "text": [
      "/share/pkg.7/python3/3.9.9/install/lib/python3.9/site-packages/sklearn/manifold/_t_sne.py:780: FutureWarning: The default initialization in TSNE will change from 'random' to 'pca' in 1.2.\n",
      "  warnings.warn(\n",
      "/share/pkg.7/python3/3.9.9/install/lib/python3.9/site-packages/sklearn/manifold/_t_sne.py:790: FutureWarning: The default learning rate in TSNE will change from 200.0 to 'auto' in 1.2.\n",
      "  warnings.warn(\n"
     ]
    }
   ],
   "source": [
    "X_predicted_2=intermediate_layer_model_2.predict(tsne_eval_generator)\n",
    "X_embedded_2 = TSNE(n_components=2).fit_transform(X_predicted_2)"
   ]
  },
  {
   "cell_type": "code",
   "execution_count": 15,
   "metadata": {},
   "outputs": [
    {
     "data": {
      "image/png": "[encoded data removed]",
      "text/plain": [
       "<Figure size 432x288 with 1 Axes>"
      ]
     },
     "metadata": {
      "needs_background": "light"
     },
     "output_type": "display_data"
    }
   ],
   "source": [
    "for i in range(len(tsne_eval_generator)):\n",
    "    color=tsne_eval_generator[i][1].argmax()\n",
    "    if color==0:\n",
    "        s1=plt.scatter(X_embedded_2[i, 0], X_embedded_2[i, 1],c='r')\n",
    "    elif color==1:\n",
    "        s2=plt.scatter(X_embedded_2[i, 0], X_embedded_2[i, 1],c='b')\n",
    "    elif color==2:\n",
    "        s3=plt.scatter(X_embedded_2[i, 0], X_embedded_2[i, 1],c='c')\n",
    "plt.legend((s1,s2,s3),('COVID-19','Normal','cap') ,loc = 'best')\n",
    "plt.show()"
   ]
  },
  {
   "cell_type": "markdown",
   "metadata": {},
   "source": [
    "<!-- ## Task 2: COVID-19 vs Normal vs Tertiary Pneumonia (Bacterial and Viral) -->"
   ]
  },
  {
   "cell_type": "markdown",
   "metadata": {
    "nbpresent": {
     "id": "66140980-2aa4-457f-b1df-74c10c234cc2"
    }
   },
   "source": [
    "<!-- #### Renew Training Batch and Validation Batch -->"
   ]
  },
  {
   "cell_type": "markdown",
   "metadata": {
    "nbpresent": {
     "id": "66140980-2aa4-457f-b1df-74c10c234cc2"
    }
   },
   "source": [
    "<!-- #### Renew Model -->"
   ]
  }
 ],
 "metadata": {
  "kernelspec": {
   "display_name": "Python 3 (ipykernel)",
   "language": "python",
   "name": "python3"
  },
  "language_info": {
   "codemirror_mode": {
    "name": "ipython",
    "version": 3
   },
   "file_extension": ".py",
   "mimetype": "text/x-python",
   "name": "python",
   "nbconvert_exporter": "python",
   "pygments_lexer": "ipython3",
   "version": "3.10.2"
  },
  "latex_envs": {
   "LaTeX_envs_menu_present": true,
   "autoclose": false,
   "autocomplete": true,
   "bibliofile": "biblio.bib",
   "cite_by": "apalike",
   "current_citInitial": 1,
   "eqLabelWithNumbers": true,
   "eqNumInitial": 1,
   "hotkeys": {
    "equation": "Ctrl-E",
    "itemize": "Ctrl-I"
   },
   "labels_anchors": false,
   "latex_user_defs": false,
   "report_style_numbering": false,
   "user_envs_cfg": false
  },
  "toc": {
   "base_numbering": 1,
   "nav_menu": {},
   "number_sections": true,
   "sideBar": true,
   "skip_h1_title": false,
   "title_cell": "Table of Contents",
   "title_sidebar": "Contents",
   "toc_cell": false,
   "toc_position": {},
   "toc_section_display": true,
   "toc_window_display": false
  },
  "varInspector": {
   "cols": {
    "lenName": 16,
    "lenType": 16,
    "lenVar": 40
   },
   "kernels_config": {
    "python": {
     "delete_cmd_postfix": "",
     "delete_cmd_prefix": "del ",
     "library": "var_list.py",
     "varRefreshCmd": "print(var_dic_list())"
    },
    "r": {
     "delete_cmd_postfix": ") ",
     "delete_cmd_prefix": "rm(",
     "library": "var_list.r",
     "varRefreshCmd": "cat(var_dic_list()) "
    }
   },
   "types_to_exclude": [
    "module",
    "function",
    "builtin_function_or_method",
    "instance",
    "_Feature"
   ],
   "window_display": false
  }
 },
 "nbformat": 4,
 "nbformat_minor": 4
}
